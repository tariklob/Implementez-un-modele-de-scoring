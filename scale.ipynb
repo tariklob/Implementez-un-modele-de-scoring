{
 "cells": [
  {
   "cell_type": "code",
   "execution_count": 1,
   "id": "94ea95e2",
   "metadata": {
    "ExecuteTime": {
     "end_time": "2024-10-23T07:11:37.828894Z",
     "start_time": "2024-10-23T07:11:36.829746Z"
    }
   },
   "outputs": [],
   "source": [
    "import pandas as pd\n",
    "df_test = pd.read_csv('data_test.csv')\n",
    "X_sample = df_test.drop(columns=['TARGET', 'SK_ID_CURR'])\n",
    "y_sample = df_test['TARGET']\n",
    "\n"
   ]
  },
  {
   "cell_type": "code",
   "execution_count": 2,
   "id": "6c9410e1",
   "metadata": {
    "ExecuteTime": {
     "end_time": "2024-10-23T07:11:58.129797Z",
     "start_time": "2024-10-23T07:11:54.537712Z"
    }
   },
   "outputs": [],
   "source": [
    "from sklearn.preprocessing import StandardScaler\n",
    "import pickle\n",
    "\n",
    "# Supposons que vous avez un DataFrame `X_sample`\n",
    "# Transformez-le en tableau NumPy avant d'entraîner le scaler\n",
    "X_sample_np = X_sample.values  # Conversion en tableau NumPy sans noms de colonnes\n",
    "\n",
    "# Entraînez le scaler sur les données\n",
    "scaler = StandardScaler()\n",
    "scaler.fit(X_sample_np)\n",
    "\n",
    "# Enregistrez le nouveau scaler sans `feature_names_in_`\n",
    "with open('scaler.pkl', 'wb') as f:\n",
    "    pickle.dump(scaler, f)\n"
   ]
  },
  {
   "cell_type": "code",
   "execution_count": null,
   "id": "50e416ba",
   "metadata": {},
   "outputs": [],
   "source": []
  }
 ],
 "metadata": {
  "kernelspec": {
   "display_name": "Python 3 (ipykernel)",
   "language": "python",
   "name": "python3"
  },
  "language_info": {
   "codemirror_mode": {
    "name": "ipython",
    "version": 3
   },
   "file_extension": ".py",
   "mimetype": "text/x-python",
   "name": "python",
   "nbconvert_exporter": "python",
   "pygments_lexer": "ipython3",
   "version": "3.11.5"
  },
  "nbTranslate": {
   "displayLangs": [
    "*"
   ],
   "hotkey": "alt-t",
   "langInMainMenu": true,
   "sourceLang": "en",
   "targetLang": "fr",
   "useGoogleTranslate": true
  },
  "toc": {
   "base_numbering": 1,
   "nav_menu": {},
   "number_sections": true,
   "sideBar": true,
   "skip_h1_title": false,
   "title_cell": "Table of Contents",
   "title_sidebar": "Contents",
   "toc_cell": false,
   "toc_position": {},
   "toc_section_display": true,
   "toc_window_display": false
  }
 },
 "nbformat": 4,
 "nbformat_minor": 5
}
