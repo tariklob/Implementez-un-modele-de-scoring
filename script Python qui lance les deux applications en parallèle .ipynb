{
 "cells": [
  {
   "cell_type": "code",
   "execution_count": null,
   "id": "dd7d77c6",
   "metadata": {
    "ExecuteTime": {
     "start_time": "2024-10-09T07:21:24.836Z"
    }
   },
   "outputs": [],
   "source": [
    "import subprocess\n",
    "\n",
    "# Démarrer l'application Flask (app.py)\n",
    "flask_app = subprocess.Popen(['python', 'app.py'])\n",
    "\n",
    "# Démarrer l'application Streamlit (app-streamlit.py)\n",
    "streamlit_app = subprocess.Popen(['streamlit', 'run', 'app-streamlit.py'])\n",
    "\n",
    "# Garder les deux processus ouverts tant qu'ils sont actifs\n",
    "flask_app.wait()\n",
    "streamlit_app.wait()"
   ]
  },
  {
   "cell_type": "code",
   "execution_count": null,
   "id": "a85be12b",
   "metadata": {},
   "outputs": [],
   "source": []
  }
 ],
 "metadata": {
  "kernelspec": {
   "display_name": "Python 3 (ipykernel)",
   "language": "python",
   "name": "python3"
  },
  "language_info": {
   "codemirror_mode": {
    "name": "ipython",
    "version": 3
   },
   "file_extension": ".py",
   "mimetype": "text/x-python",
   "name": "python",
   "nbconvert_exporter": "python",
   "pygments_lexer": "ipython3",
   "version": "3.11.5"
  },
  "nbTranslate": {
   "displayLangs": [
    "*"
   ],
   "hotkey": "alt-t",
   "langInMainMenu": true,
   "sourceLang": "en",
   "targetLang": "fr",
   "useGoogleTranslate": true
  },
  "toc": {
   "base_numbering": 1,
   "nav_menu": {},
   "number_sections": true,
   "sideBar": true,
   "skip_h1_title": false,
   "title_cell": "Table of Contents",
   "title_sidebar": "Contents",
   "toc_cell": false,
   "toc_position": {},
   "toc_section_display": true,
   "toc_window_display": false
  }
 },
 "nbformat": 4,
 "nbformat_minor": 5
}
